{
 "cells": [
  {
   "cell_type": "markdown",
   "metadata": {},
   "source": [
    "1.장르 분류-팝은 팝끼리 가요는 가요끼리 (장르)\n",
    "  댄스 / 발라드 / 트로트 등 대부분 상반되는 장르 섞이지x\n",
    "\n",
    "2.장르별 태그- 발라드 #감성 #슬픈 #잔잔한 #이별 #새벽 \n",
    "-댄스 #신나는 #기분전환 #파티\n",
    "\n",
    "3.시간, 날씨, 계절, 상황\n",
    "-밤엔 발라드 뉴에이지 인디 같은 차분한 음악 위주\n",
    "-비오는 날 잔잔한 곡, 발라드 위주\n",
    "-주말이나 화창한 날엔 밝은 기분전환 음악(칠링)\n",
    "-운동, 다이어트 플레이리스트는 EDM이나 댄스(팝이나 아이돌)"
   ]
  },
  {
   "cell_type": "markdown",
   "metadata": {},
   "source": [
    "기타. 예측이 어려운 플레이리스트\n",
    "ex) 이 노래 뭐야? 틀어놓으면 물어보는 리스트\n",
    "안방 1열에서 듣는 방구석 뮤지션\n",
    "이 노래 정말 좋다 감탄사 연발 팝\n",
    "\n",
    "Q. 인기있는 음원(플레이리스트 빈도 외 차트상위곡,좋아요수 상위곡) 예측 가능할지?"
   ]
  },
  {
   "cell_type": "code",
   "execution_count": 1,
   "metadata": {},
   "outputs": [],
   "source": [
    "import pandas as pd"
   ]
  },
  {
   "cell_type": "code",
   "execution_count": 10,
   "metadata": {},
   "outputs": [],
   "source": [
    "import tqdm"
   ]
  },
  {
   "cell_type": "code",
   "execution_count": 4,
   "metadata": {},
   "outputs": [],
   "source": [
    "import json"
   ]
  },
  {
   "cell_type": "code",
   "execution_count": 17,
   "metadata": {},
   "outputs": [],
   "source": [
    "from pandas import DataFrame"
   ]
  },
  {
   "cell_type": "code",
   "execution_count": 4,
   "metadata": {},
   "outputs": [],
   "source": [
    "train = pd.read_json('data/train.json', typ='series', encoding='utf-8')"
   ]
  },
  {
   "cell_type": "code",
   "execution_count": 52,
   "metadata": {},
   "outputs": [],
   "source": [
    "song_meta = pd.read_json('data/song_meta.json', typ='series', encoding='utf-8')"
   ]
  },
  {
   "cell_type": "code",
   "execution_count": 43,
   "metadata": {},
   "outputs": [],
   "source": [
    "data = train.sample(n=10, random_state=1)"
   ]
  },
  {
   "cell_type": "code",
   "execution_count": 44,
   "metadata": {},
   "outputs": [
    {
     "output_type": "stream",
     "name": "stdout",
     "text": "['힙합', '클럽', '힙합갬성', 'HipHop', '흥폭발', '힙스터', '신나는']\n['휴식', '힐링', '기분전환', '힘들때']\n['매장음악', '카페', '감각적인', '드라이브', '칠뮤직', '알앤비힙합', '기분전환', '유니크', '트렌디', '그루브한']\n['멜론차트', '느낌있는', '카페', 'Pop', '커피', '없는', '트렌디', '팝']\n['사랑', '밤', '설렘', '새벽']\n['도시', '추억', '지명']\n['겨울', '까페']\n['인디']\n['클럽', '드라이브']\n['새벽', '밤', '설렘', '사랑']\n"
    }
   ],
   "source": [
    "for plist in data:\n",
    "    print(plist['tags'])"
   ]
  },
  {
   "cell_type": "code",
   "execution_count": 47,
   "metadata": {},
   "outputs": [],
   "source": [
    "plist = data.iloc[0]"
   ]
  },
  {
   "cell_type": "code",
   "execution_count": 51,
   "metadata": {},
   "outputs": [
    {
     "output_type": "execute_result",
     "data": {
      "text/plain": "['힙합', '클럽', '힙합갬성', 'HipHop', '흥폭발', '힙스터', '신나는']"
     },
     "metadata": {},
     "execution_count": 51
    }
   ],
   "source": [
    "plist['tags']"
   ]
  },
  {
   "cell_type": "code",
   "execution_count": 50,
   "metadata": {},
   "outputs": [
    {
     "output_type": "execute_result",
     "data": {
      "text/plain": "[529977,\n 135237,\n 48725,\n 255904,\n 69083,\n 572507,\n 82141,\n 539190,\n 265277,\n 108528,\n 141277,\n 476876,\n 209222,\n 187715,\n 410255,\n 305943,\n 620090,\n 155740,\n 406189,\n 334815]"
     },
     "metadata": {},
     "execution_count": 50
    }
   ],
   "source": [
    "plist['songs']"
   ]
  },
  {
   "cell_type": "code",
   "execution_count": 54,
   "metadata": {},
   "outputs": [
    {
     "output_type": "execute_result",
     "data": {
      "text/plain": "{'song_gn_dtl_gnr_basket': ['GN0901'],\n 'issue_date': '20150925',\n 'album_name': 'Dessert',\n 'album_id': 268811,\n 'artist_id_basket': [785208],\n 'song_name': 'Dessert (Remix) (Feat. Silent&#243;)',\n 'song_gn_gnr_basket': ['GN0900'],\n 'artist_name_basket': ['Dawin'],\n 'id': 529977}"
     },
     "metadata": {},
     "execution_count": 54
    }
   ],
   "source": [
    "song_meta[529977]"
   ]
  },
  {
   "cell_type": "code",
   "execution_count": 24,
   "metadata": {},
   "outputs": [
    {
     "output_type": "execute_result",
     "data": {
      "text/plain": "{'tags': ['힙합', '클럽', '힙합갬성', 'HipHop', '흥폭발', '힙스터', '신나는'],\n 'id': 73236,\n 'plylst_title': '힙합좋아하는 사람들을 위한 플레이리스트',\n 'songs': [529977,\n  135237,\n  48725,\n  255904,\n  69083,\n  572507,\n  82141,\n  539190,\n  265277,\n  108528,\n  141277,\n  476876,\n  209222,\n  187715,\n  410255,\n  305943,\n  620090,\n  155740,\n  406189,\n  334815],\n 'like_cnt': 12,\n 'updt_date': '2018-08-26 16:07:33.000'}"
     },
     "metadata": {},
     "execution_count": 24
    }
   ],
   "source": [
    "data.iloc[0]"
   ]
  },
  {
   "cell_type": "code",
   "execution_count": 9,
   "metadata": {},
   "outputs": [],
   "source": [
    "genre_gn_all = pd.read_json('data/genre_gn_all.json', typ='series', encoding='utf-8')"
   ]
  },
  {
   "cell_type": "code",
   "execution_count": 13,
   "metadata": {},
   "outputs": [],
   "source": [
    "genre_gn_all = pd.DataFrame(genre_gn_all, columns = ['gnr_name']).reset_index().rename(columns = {'index' : 'gnr_code'})"
   ]
  },
  {
   "cell_type": "code",
   "execution_count": 31,
   "metadata": {},
   "outputs": [
    {
     "output_type": "error",
     "ename": "KeyError",
     "evalue": "'GN0100'",
     "traceback": [
      "\u001b[1;31m---------------------------------------------------------------------------\u001b[0m",
      "\u001b[1;31mKeyError\u001b[0m                                  Traceback (most recent call last)",
      "\u001b[1;32m~\\Anaconda3\\lib\\site-packages\\pandas\\core\\indexes\\base.py\u001b[0m in \u001b[0;36mget_loc\u001b[1;34m(self, key, method, tolerance)\u001b[0m\n\u001b[0;32m   2656\u001b[0m             \u001b[1;32mtry\u001b[0m\u001b[1;33m:\u001b[0m\u001b[1;33m\u001b[0m\u001b[1;33m\u001b[0m\u001b[0m\n\u001b[1;32m-> 2657\u001b[1;33m                 \u001b[1;32mreturn\u001b[0m \u001b[0mself\u001b[0m\u001b[1;33m.\u001b[0m\u001b[0m_engine\u001b[0m\u001b[1;33m.\u001b[0m\u001b[0mget_loc\u001b[0m\u001b[1;33m(\u001b[0m\u001b[0mkey\u001b[0m\u001b[1;33m)\u001b[0m\u001b[1;33m\u001b[0m\u001b[1;33m\u001b[0m\u001b[0m\n\u001b[0m\u001b[0;32m   2658\u001b[0m             \u001b[1;32mexcept\u001b[0m \u001b[0mKeyError\u001b[0m\u001b[1;33m:\u001b[0m\u001b[1;33m\u001b[0m\u001b[1;33m\u001b[0m\u001b[0m\n",
      "\u001b[1;32mpandas/_libs/index.pyx\u001b[0m in \u001b[0;36mpandas._libs.index.IndexEngine.get_loc\u001b[1;34m()\u001b[0m\n",
      "\u001b[1;32mpandas/_libs/index.pyx\u001b[0m in \u001b[0;36mpandas._libs.index.IndexEngine.get_loc\u001b[1;34m()\u001b[0m\n",
      "\u001b[1;32mpandas/_libs/hashtable_class_helper.pxi\u001b[0m in \u001b[0;36mpandas._libs.hashtable.PyObjectHashTable.get_item\u001b[1;34m()\u001b[0m\n",
      "\u001b[1;32mpandas/_libs/hashtable_class_helper.pxi\u001b[0m in \u001b[0;36mpandas._libs.hashtable.PyObjectHashTable.get_item\u001b[1;34m()\u001b[0m\n",
      "\u001b[1;31mKeyError\u001b[0m: 'GN0100'",
      "\nDuring handling of the above exception, another exception occurred:\n",
      "\u001b[1;31mKeyError\u001b[0m                                  Traceback (most recent call last)",
      "\u001b[1;32m<ipython-input-31-498b20d1085e>\u001b[0m in \u001b[0;36m<module>\u001b[1;34m\u001b[0m\n\u001b[1;32m----> 1\u001b[1;33m \u001b[0mgenre_gn_all\u001b[0m\u001b[1;33m[\u001b[0m\u001b[1;34m'GN0100'\u001b[0m\u001b[1;33m]\u001b[0m\u001b[1;33m\u001b[0m\u001b[1;33m\u001b[0m\u001b[0m\n\u001b[0m",
      "\u001b[1;32m~\\Anaconda3\\lib\\site-packages\\pandas\\core\\frame.py\u001b[0m in \u001b[0;36m__getitem__\u001b[1;34m(self, key)\u001b[0m\n\u001b[0;32m   2925\u001b[0m             \u001b[1;32mif\u001b[0m \u001b[0mself\u001b[0m\u001b[1;33m.\u001b[0m\u001b[0mcolumns\u001b[0m\u001b[1;33m.\u001b[0m\u001b[0mnlevels\u001b[0m \u001b[1;33m>\u001b[0m \u001b[1;36m1\u001b[0m\u001b[1;33m:\u001b[0m\u001b[1;33m\u001b[0m\u001b[1;33m\u001b[0m\u001b[0m\n\u001b[0;32m   2926\u001b[0m                 \u001b[1;32mreturn\u001b[0m \u001b[0mself\u001b[0m\u001b[1;33m.\u001b[0m\u001b[0m_getitem_multilevel\u001b[0m\u001b[1;33m(\u001b[0m\u001b[0mkey\u001b[0m\u001b[1;33m)\u001b[0m\u001b[1;33m\u001b[0m\u001b[1;33m\u001b[0m\u001b[0m\n\u001b[1;32m-> 2927\u001b[1;33m             \u001b[0mindexer\u001b[0m \u001b[1;33m=\u001b[0m \u001b[0mself\u001b[0m\u001b[1;33m.\u001b[0m\u001b[0mcolumns\u001b[0m\u001b[1;33m.\u001b[0m\u001b[0mget_loc\u001b[0m\u001b[1;33m(\u001b[0m\u001b[0mkey\u001b[0m\u001b[1;33m)\u001b[0m\u001b[1;33m\u001b[0m\u001b[1;33m\u001b[0m\u001b[0m\n\u001b[0m\u001b[0;32m   2928\u001b[0m             \u001b[1;32mif\u001b[0m \u001b[0mis_integer\u001b[0m\u001b[1;33m(\u001b[0m\u001b[0mindexer\u001b[0m\u001b[1;33m)\u001b[0m\u001b[1;33m:\u001b[0m\u001b[1;33m\u001b[0m\u001b[1;33m\u001b[0m\u001b[0m\n\u001b[0;32m   2929\u001b[0m                 \u001b[0mindexer\u001b[0m \u001b[1;33m=\u001b[0m \u001b[1;33m[\u001b[0m\u001b[0mindexer\u001b[0m\u001b[1;33m]\u001b[0m\u001b[1;33m\u001b[0m\u001b[1;33m\u001b[0m\u001b[0m\n",
      "\u001b[1;32m~\\Anaconda3\\lib\\site-packages\\pandas\\core\\indexes\\base.py\u001b[0m in \u001b[0;36mget_loc\u001b[1;34m(self, key, method, tolerance)\u001b[0m\n\u001b[0;32m   2657\u001b[0m                 \u001b[1;32mreturn\u001b[0m \u001b[0mself\u001b[0m\u001b[1;33m.\u001b[0m\u001b[0m_engine\u001b[0m\u001b[1;33m.\u001b[0m\u001b[0mget_loc\u001b[0m\u001b[1;33m(\u001b[0m\u001b[0mkey\u001b[0m\u001b[1;33m)\u001b[0m\u001b[1;33m\u001b[0m\u001b[1;33m\u001b[0m\u001b[0m\n\u001b[0;32m   2658\u001b[0m             \u001b[1;32mexcept\u001b[0m \u001b[0mKeyError\u001b[0m\u001b[1;33m:\u001b[0m\u001b[1;33m\u001b[0m\u001b[1;33m\u001b[0m\u001b[0m\n\u001b[1;32m-> 2659\u001b[1;33m                 \u001b[1;32mreturn\u001b[0m \u001b[0mself\u001b[0m\u001b[1;33m.\u001b[0m\u001b[0m_engine\u001b[0m\u001b[1;33m.\u001b[0m\u001b[0mget_loc\u001b[0m\u001b[1;33m(\u001b[0m\u001b[0mself\u001b[0m\u001b[1;33m.\u001b[0m\u001b[0m_maybe_cast_indexer\u001b[0m\u001b[1;33m(\u001b[0m\u001b[0mkey\u001b[0m\u001b[1;33m)\u001b[0m\u001b[1;33m)\u001b[0m\u001b[1;33m\u001b[0m\u001b[1;33m\u001b[0m\u001b[0m\n\u001b[0m\u001b[0;32m   2660\u001b[0m         \u001b[0mindexer\u001b[0m \u001b[1;33m=\u001b[0m \u001b[0mself\u001b[0m\u001b[1;33m.\u001b[0m\u001b[0mget_indexer\u001b[0m\u001b[1;33m(\u001b[0m\u001b[1;33m[\u001b[0m\u001b[0mkey\u001b[0m\u001b[1;33m]\u001b[0m\u001b[1;33m,\u001b[0m \u001b[0mmethod\u001b[0m\u001b[1;33m=\u001b[0m\u001b[0mmethod\u001b[0m\u001b[1;33m,\u001b[0m \u001b[0mtolerance\u001b[0m\u001b[1;33m=\u001b[0m\u001b[0mtolerance\u001b[0m\u001b[1;33m)\u001b[0m\u001b[1;33m\u001b[0m\u001b[1;33m\u001b[0m\u001b[0m\n\u001b[0;32m   2661\u001b[0m         \u001b[1;32mif\u001b[0m \u001b[0mindexer\u001b[0m\u001b[1;33m.\u001b[0m\u001b[0mndim\u001b[0m \u001b[1;33m>\u001b[0m \u001b[1;36m1\u001b[0m \u001b[1;32mor\u001b[0m \u001b[0mindexer\u001b[0m\u001b[1;33m.\u001b[0m\u001b[0msize\u001b[0m \u001b[1;33m>\u001b[0m \u001b[1;36m1\u001b[0m\u001b[1;33m:\u001b[0m\u001b[1;33m\u001b[0m\u001b[1;33m\u001b[0m\u001b[0m\n",
      "\u001b[1;32mpandas/_libs/index.pyx\u001b[0m in \u001b[0;36mpandas._libs.index.IndexEngine.get_loc\u001b[1;34m()\u001b[0m\n",
      "\u001b[1;32mpandas/_libs/index.pyx\u001b[0m in \u001b[0;36mpandas._libs.index.IndexEngine.get_loc\u001b[1;34m()\u001b[0m\n",
      "\u001b[1;32mpandas/_libs/hashtable_class_helper.pxi\u001b[0m in \u001b[0;36mpandas._libs.hashtable.PyObjectHashTable.get_item\u001b[1;34m()\u001b[0m\n",
      "\u001b[1;32mpandas/_libs/hashtable_class_helper.pxi\u001b[0m in \u001b[0;36mpandas._libs.hashtable.PyObjectHashTable.get_item\u001b[1;34m()\u001b[0m\n",
      "\u001b[1;31mKeyError\u001b[0m: 'GN0100'"
     ]
    }
   ],
   "source": [
    "genre_gn_all.loc['']"
   ]
  },
  {
   "cell_type": "code",
   "execution_count": 35,
   "metadata": {},
   "outputs": [],
   "source": [
    "genre_gn_all = genre_gn_all.set_index('gnr_code')"
   ]
  },
  {
   "cell_type": "code",
   "execution_count": 40,
   "metadata": {},
   "outputs": [
    {
     "output_type": "execute_result",
     "data": {
      "text/plain": "Index(['GN0100', 'GN0101', 'GN0102', 'GN0103', 'GN0104', 'GN0105', 'GN0200',\n       'GN0201', 'GN0202', 'GN0203',\n       ...\n       'GN2802', 'GN2803', 'GN2804', 'GN2805', 'GN2806', 'GN2900', 'GN2901',\n       'GN2902', 'GN2903', 'GN3000'],\n      dtype='object', name='gnr_code', length=254)"
     },
     "metadata": {},
     "execution_count": 40
    }
   ],
   "source": [
    "genre_gn_all.index"
   ]
  },
  {
   "cell_type": "code",
   "execution_count": 41,
   "metadata": {},
   "outputs": [
    {
     "output_type": "stream",
     "name": "stdout",
     "text": "gnr_name    발라드\nName: GN0100, dtype: object\ngnr_name    댄스\nName: GN0200, dtype: object\ngnr_name    랩/힙합\nName: GN0300, dtype: object\ngnr_name    R&B/Soul\nName: GN0400, dtype: object\ngnr_name    인디음악\nName: GN0500, dtype: object\ngnr_name    록/메탈\nName: GN0600, dtype: object\ngnr_name    성인가요\nName: GN0700, dtype: object\ngnr_name    포크/블루스\nName: GN0800, dtype: object\ngnr_name    POP\nName: GN0900, dtype: object\ngnr_name    록/메탈\nName: GN1000, dtype: object\ngnr_name    일렉트로니카\nName: GN1100, dtype: object\ngnr_name    랩/힙합\nName: GN1200, dtype: object\ngnr_name    R&B/Soul\nName: GN1300, dtype: object\ngnr_name    포크/블루스/컨트리\nName: GN1400, dtype: object\ngnr_name    OST\nName: GN1500, dtype: object\ngnr_name    클래식\nName: GN1600, dtype: object\ngnr_name    재즈\nName: GN1700, dtype: object\ngnr_name    뉴에이지\nName: GN1800, dtype: object\ngnr_name    J-POP\nName: GN1900, dtype: object\ngnr_name    월드뮤직\nName: GN2000, dtype: object\ngnr_name    CCM\nName: GN2100, dtype: object\ngnr_name    어린이/태교\nName: GN2200, dtype: object\ngnr_name    종교음악\nName: GN2300, dtype: object\ngnr_name    국악\nName: GN2400, dtype: object\ngnr_name    아이돌\nName: GN2500, dtype: object\ngnr_name    일렉트로니카\nName: GN2600, dtype: object\ngnr_name    EDM\nName: GN2700, dtype: object\ngnr_name    뮤직테라피\nName: GN2800, dtype: object\ngnr_name    뮤지컬\nName: GN2900, dtype: object\ngnr_name    크리스마스\nName: GN3000, dtype: object\n"
    }
   ],
   "source": [
    "gnr_code = genre_gn_all.index\n",
    "for code in gnr_code:\n",
    "    if code[-2:] == '00':\n",
    "        genre_gn_all.loc[code]\n",
    "        print()"
   ]
  },
  {
   "cell_type": "code",
   "execution_count": null,
   "metadata": {},
   "outputs": [],
   "source": []
  }
 ],
 "metadata": {
  "kernelspec": {
   "display_name": "Python 3.7.3 64-bit ('base': conda)",
   "language": "python",
   "name": "python37364bitbasecondadf1ad5106ac2490b9486781839af4e56"
  },
  "language_info": {
   "codemirror_mode": {
    "name": "ipython",
    "version": 3
   },
   "file_extension": ".py",
   "mimetype": "text/x-python",
   "name": "python",
   "nbconvert_exporter": "python",
   "pygments_lexer": "ipython3",
   "version": "3.7.3-final"
  }
 },
 "nbformat": 4,
 "nbformat_minor": 2
}