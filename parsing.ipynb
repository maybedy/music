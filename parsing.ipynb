{
 "cells": [
  {
   "cell_type": "markdown",
   "metadata": {},
   "source": [
    "1.장르 분류-팝은 팝끼리 가요는 가요끼리 (장르)\n",
    "  댄스 / 발라드 / 트로트 등 대부분 상반되는 장르 섞이지x\n",
    "\n",
    "2.장르별 태그- 발라드 #감성 #슬픈 #잔잔한 #이별 #새벽 \n",
    "-댄스 #신나는 #기분전환 #파티\n",
    "\n",
    "3.시간, 날씨, 계절, 상황\n",
    "-밤엔 발라드 뉴에이지 인디 같은 차분한 음악 위주\n",
    "-비오는 날 잔잔한 곡, 발라드 위주\n",
    "-주말이나 화창한 날엔 밝은 기분전환 음악(칠링)\n",
    "-운동, 다이어트 플레이리스트는 EDM이나 댄스(팝이나 아이돌)"
   ]
  },
  {
   "cell_type": "markdown",
   "metadata": {},
   "source": [
    "기타. 예측이 어려운 플레이리스트\n",
    "ex) 이 노래 뭐야? 틀어놓으면 물어보는 리스트\n",
    "안방 1열에서 듣는 방구석 뮤지션\n",
    "이 노래 정말 좋다 감탄사 연발 팝\n",
    "\n",
    "Q. 인기있는 음원(플레이리스트 빈도 외 차트상위곡,좋아요수 상위곡) 예측 가능할지?"
   ]
  },
  {
   "cell_type": "code",
   "execution_count": 1,
   "metadata": {},
   "outputs": [],
   "source": [
    "import pandas as pd"
   ]
  },
  {
   "cell_type": "code",
   "execution_count": 10,
   "metadata": {},
   "outputs": [],
   "source": [
    "import tqdm"
   ]
  },
  {
   "cell_type": "code",
   "execution_count": 4,
   "metadata": {},
   "outputs": [],
   "source": [
    "import json"
   ]
  },
  {
   "cell_type": "code",
   "execution_count": null,
   "metadata": {},
   "outputs": [],
   "source": [
    "train = pd"
   ]
  }
 ],
 "metadata": {
  "kernelspec": {
   "display_name": "Python 3.7.3 64-bit ('base': conda)",
   "language": "python",
   "name": "python37364bitbasecondadf1ad5106ac2490b9486781839af4e56"
  },
  "language_info": {
   "codemirror_mode": {
    "name": "ipython",
    "version": 3
   },
   "file_extension": ".py",
   "mimetype": "text/x-python",
   "name": "python",
   "nbconvert_exporter": "python",
   "pygments_lexer": "ipython3",
   "version": "3.7.3-final"
  }
 },
 "nbformat": 4,
 "nbformat_minor": 2
}